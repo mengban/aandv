{
 "cells": [
  {
   "cell_type": "code",
   "execution_count": 1,
   "metadata": {
    "collapsed": true
   },
   "outputs": [],
   "source": [
    "import av\n",
    "import librtmp\n",
    "import time"
   ]
  },
  {
   "cell_type": "code",
   "execution_count": 2,
   "metadata": {
    "collapsed": true
   },
   "outputs": [],
   "source": [
    "conn = librtmp.RTMP(\"rtmp://192.168.153.128:1935/stream/rtmptest\", live=True)\n",
    "# Attempt to connect\n",
    "conn.connect()\n",
    "# Get a file-like object to access to the stream\n",
    "stream = conn.create_stream()"
   ]
  },
  {
   "cell_type": "code",
   "execution_count": null,
   "metadata": {},
   "outputs": [
    {
     "name": "stdout",
     "output_type": "stream",
     "text": [
      "b'FLV\\x01\\x05\\x00\\x00\\x00\\t\\x00\\x00\\x00\\x00\\x12\\x00\\x01\\x83\\x00\\x00\\x00\\x00\\x00\\x00\\x00\\x02\\x00\\nonMetaData\\x03\\x00\\x06Server\\x02\\x00.NGINX RTMP (github.com/arut/nginx-rtmp-module)\\x00\\x05width\\x00@\\x91\\x10\\x00\\x00\\x00\\x00\\x00\\x00\\x06height\\x00@\\x830\\x00\\x00\\x00\\x00\\x00\\x00\\x0cdisplayWidth\\x00@\\x91\\x10\\x00\\x00\\x00\\x00\\x00\\x00\\rdisplayHeight\\x00@\\x830\\x00\\x00\\x00\\x00\\x00\\x00\\x08duration\\x00\\x00\\x00\\x00\\x00\\x00\\x00\\x00\\x00\\x00\\tframerate\\x00@>\\x00\\x00\\x00\\x00\\x00\\x00\\x00\\x03fps\\x00@>\\x00\\x00\\x00\\x00\\x00\\x00\\x00\\rvideodatarate\\x00@\\xa3\\x88\\x00\\x00\\x00\\x00\\x00\\x00\\x0cvideocodecid\\x00\\x00\\x00\\x00\\x00\\x00\\x00\\x00\\x00\\x00\\raudiodatarate\\x00@d\\x00\\x00\\x00\\x00\\x00\\x00\\x00\\x0caudiocodecid\\x00\\x00\\x00\\x00\\x00\\x00\\x00\\x00\\x00\\x00\\x07profile\\x02\\x00 \\x00\\x00\\x00\\x00\\x00\\x00\\x00\\x00\\x00\\x00\\x00\\x00\\x00\\x00\\x00\\x00\\x00\\x00\\x00\\x00\\x00\\x00\\x00\\x00\\x00\\x00\\x00\\x00\\x00\\x00\\x00\\x00\\x00\\x05level\\x02\\x00 \\x00\\x00\\x00\\x00\\x00\\x00\\x00\\x00\\x00\\x00\\x00\\x00\\x00\\x00\\x00\\x00\\x00\\x00\\x00\\x00\\x00\\x00\\x00\\x00\\x00\\x00\\x00\\x00\\x00\\x00\\x00\\x00\\x00\\x00\\t\\x00\\x00\\x01\\x8e\\x08\\x00\\x00\\x07\\x14\\xf8\\x9a\\x00\\x00\\x00\\x00\\xaf\\x00\\x12\\x10V\\xe5\\x00\\x00\\x00\\x00\\x12'\n",
      "b'\\x08\\x00\\x01e\\x14\\xf8\\xb1\\x00\\x00\\x00\\x00\\xaf\\x01!+\\x13\\xc5M\\xb2\\xf2\\x01Ys+4\\xbe\\xddsTM\\xe9z\\xcb\\x00\\x15\\x92^\\xa3\\x92\\xc6\\xa4\\x8e\\x1d\\xab\\x89)r+Y*J\\xa52\\xa4\\xaf\\xafK\\xa4e6\\x97\"\\xb5\\x92\\xa7r+\\x1b.c\\x1a\\x99\\xb0\\xedHl[U\\x92F\\xda\\xba\\\\\\xc5\\xc4\\x91\\xb6\\xa2x0n\\xed\\xf7xW\\xdb~1\\x85T\\xe3n\\x074\\rxk\\xff.\\xff\\xf2\\xf5\\xd1\\x84\\x87\\x8aW!\\xe3Gt\\x94\\xccX\\x0e0\\xe2\\x8esW\\x85\\xfe\\x16\\xf6\\xdf\\x8c;\\x9e1\\x80\\xb3%x_\\xe1om\\xfe\\x16\\xc8\\xd04\\xa5rS5u1\\xe3l\\x94\\xd1!\\xc6\\x1a\\xe8\\xc0\\x1f\\xef\\xd5\\xfc\\xeb\\xf8W!\\xa1\\xa3\\x882;\\xb38\\xb1;5rS5}\\xb4\\xcd^\\x07L\\xd5\\xe1N6\\xc9|\\xc4\\xe6\\xd5\\xc9M\\x1d\\xd2\\xf9\\xae\\xd5M\\xd2u\\xcf\\x82\\xe3\\x18.%!\\xccR\\x1e6\\xf6\\xd3\\xe1\\xbaFC\\x8c/\\x99\\xc4\\x1a$\\xa6\\x8a\\xc7\\x1a0\\x16d\\xaeJq\\xb7\\xb6\\xcf4\\xfeI|\"Fuhq\\nS\\x05\\xc5\\x1d\\xc4\\xd90\\xab\\xae|\\x15\\x98\\x1cP\\x1aj\\xe4\\xeb\\xd1\\xdd\\xab\\xafEr\\x01\\xe3n\\x0b\\x8aW!\\xe3\\x15\\x8d4`\\xb3\\x14\\x94\\xcd\\\\\\x94\\xf8W!\\xb2\\x15c\\xd7G\\x92\\\\f\\xaeCd*\\xd7\\xcdwm\\xfe\\x15\\xc9K\\xc0\\xfd\\xaf \\x15\\x972\\xb3K\\xed\\xd75D\\xde\\x97\\xac\\xb0\\x00\\x00\\x00\\x00\\x00\\x00\\x00\\x00\\x00\\x00\\x00\\x00\\x00\\x00\\x00\\x00\\x00\\x00\\x00\\x00\\x00\\x00\\x00\\x00\\x00\\x01\\xc0\\x00\\x00\\x01p'\n",
      "b'\\x08\\x00\\x01\\x8d\\x14\\xf8\\xc8\\x00\\x00\\x00\\x00\\xaf\\x01!M\\x9a\\xff\\xf3\\xff\\xff\\xff\\xff\\xfb\\xfb\\xe3\\xa0\\xafFcf\\xb3kU\\x9a\\xbfp2\\xb2JRq\\xe1s\\x9f\\x00.\\xae\\x98\\x03\\x8c\\xba\\xa0D\\x9f\\x13\\xa4\\xd2\\xe4\\x1b\\xf8GY\\xe3\\x87\\x1b\\x83\\xd7\\xf5\\x07\\xf1\\xbe\\xe344\\xc7c`\\x9fY\\xac:\\xbaD\\x9b\\xa1eavN\\x9f\\xc5v\\x04c\\xdd\\x90\\x1cq\\x89t\\x04\\x90\\x9fAeg\\xb4\\xe1\\x88\\x11c\\xc4\\xc7\\xa7\\x1d<yv\\xf3\\xc8~\\xefi\\x1f\\x8a\\xc9\\x94\\xa6*e\\x07\\x81\\x90\\xa2\\x858\\xf5o\\x9b\\xdd\\xfc\\x8b\\xc9\\xd94\\x94X\\xd4\\xd8\\xec\\xa6S\\xefI\\'\\xa7\\x1d>m\\xf7t\\xf0\\x81M\\xb3\\xa8\\x7f\\x92\\xd0\\\\\\xae\\xab\\xa02\\x91\\x07\\x98\\xb3\\x11}\\xb6\\xc5R\\x88\\x11\\xac\\x06\\xe1\\xdbVUC\\xe4Ax\\x8eW\\xa8]g\\x8eT<\\x84\\xd1M\\xd9I.w\\x01\"\\xcfU\\xebL\\xeaR!\\x80\\xd6\\xe8\\x16\\xe3\\xc5\\x9aY\\xd6\\r\\xeafx\\xb4\\x07\\xc1\\xa1\\xa8y\\x86\\x9b\\x0c\\n,\\x0b\\xca\\x8a\\xcar\\x16w\\x0b%\\x10Y.=u\\x9c_\\x92+L).\\x0e\\x0f\\x8a\\xb4\\x19d\\x1d\\xb2$\\x9f\\xa4k\\x98\\x9c\\xef;\\xc7u\\xa8L\\xc6\\x19\\x84\\xa7\\xb9\\xbb>\\x95\\x98)v\\xb4s\\rR+~#Gfr\\x16\\xd5WS\\x12\\xe9\\xbd\\xd7\\xcfe\\x806O\\xaf\\t%\\x9a\\xfc\\x11\\xec{\\xd3\\n\\x07\\xd89fq>D\\xd5b\\xf2\\xd6\\xe9=\\x93^\\xd8\\xd5)\\xee\\x96 \\x9a\\xa9\\xe4\\xa9\\x91W}d\\xfe>\\x02\\x1f\\x87\\xe1\\xf9\\xfb\\x81\\x95\\x92R\\x93\\x8f\\x0b\\x9c\\xf8\\x01ut\\xc0\\x1ce\\xd5\\x00\\x00\\x00\\x00\\x00\\x00\\x00\\x00\\x00\\x00\\x00\\x00\\x00\\x00\\x00\\x00\\x00\\x00\\x00\\x00\\x00\\x00\\x00\\x00\\x00\\x00\\x0e\\x00\\x00\\x01\\x98'\n",
      "b'\\x08\\x00\\x02\\xd7\\x14\\xf8\\xdf\\x00\\x00\\x00\\x00\\xaf\\x01!{\\x0f\\xff\\xff\\xff\\xff\\xe0>_\\xda\\xfc\\xf9\\xe7^\\xdeeo\\x9d\\xc9\\xd2*n\\xf3YVo\\xd8\\x00\\x03!\\x84\\x9c\\xb7\\x93H\\xb3\\xaa\\t\\x0e9\\x05\\x9e\\xb8I7\"O\\x97)\\n\\xb1\\x80Fh,\\xc8\\xa4\\x16\\xec\\x7f>]y\\x08\\x90\\xf2b\\t6vOy\\x04\\n\\xd2\\xa1Q\\x06v%d\\x12h\\x1eU\\x19(\\x0f%\\x19$@L\\xa8;\\xbd\\xd8\\xfe\\x06\\x03\\x13\\xf3\\x99Ut \\xb3\\xbcR\\x11\\x9eH%\"\\x97\\x91\\x02\\xb2s\\'\\xc5[\\x91\\xa7\\xc3h\\xc2N\\x89,K\\xfe\\x91\\x12\\x02\\xa07\\xa2{\\x06\\x0e\\x894\\x84\\xa0\\x0e^\\x7f\\xe7\\x89\\n\\x05\\x8f\\x08\\x91\\x14@A\\xac\\xd8H\\x84$\\x15\\xc9\\xcb$\\x14\\xf8\\x16b\\xc0\\x86N\\x13>G\\xd1\\xbeg G&\\xb3\\xe4\\xd2\\xcf\\xc3\\xb4\\xc6M*\\xe8<\\x14\\x04\\x14IDV\\xe1\\xa85B\\x08\\xa4$\\xcak\\xa4\\x19Z\\x06X\\xc1\\x01?\\x02\\xcf6\\x00[|3\\xbco\\x0c\"\\x98\\x14\\xb5bN\\x05N\\xf8v\\xc4\\xc2\\xc8\\x90R\\xc3~\\xf3?\\x1aeA\\x10\\x8b\\xbc\\xf1\\xe0gPL\\x83\\xe4O\\xff\\xa5\\x01\\x12!\\xae\\xf1K\\xa2\\xea\\xec@\\x8a\\xd7\\xbe\\xe5rr\\x85\\xa8\\x1c\\x01t\\x01\\xb6\\xad\\x0ej$\\x941\\xad1\\xd4\\x82\\xe3>5\\xbb\\x1b(\\x8a\\xb7\\x04+\\xb0\\xabr,6\\xe8a\\xff\\xae\\xcc\\x83\\xbe\\xb2\\xe9 )F\\xb9o\\xe4\\xff\\x11\\x81\\x83n\\xe7R\\xd0(\\xf2x\\x16j$\\xc2\\xfe\\x0f*+T\\xedm\\xff\\xb9?v\\xe4|\\xf6_\\'\\xe4\\xe1|f\\x06_\\xae\\xc8_\\xaf\\xa9\\xc7\\xabc\\xbfS\\xf1\\xef\\xb2q\\x85L6?vlWa\\x9b\\xf4\\xfb\\x1c\\x1d\\xab\\xd8\\xbe\\xe7W4\\xfav\\x0cx\\x1f\\x9e\\xe5p\\x92\\x1a\\xef\\\\\\x8d\\x84l\\xbe\\xfe\\xc9=\\xb3\\xccs\\xe2/~h\\xf0\\xeak\\xc4\\xf5\\x95\\x9a\\x0f\\xb7\\x97\\xcc\\xda\\xa2\\xdf\\x1e\\x04\\x1c\\xb4\\x82\\xfa\\xf7\\xfdK\\xf09\\xeb\\xe2uF\\x93\\xd1\\xb50\\xb9+\\xbe\\xb0\\xfa\\xcc5\\xc8}\\x9bt\\xee;t\\x84F\\x0c7[:]>\\x83\\x03\\xfc\\x1cg\\xaf\\xbc\\x07\\xfet\\x10\\xabp\\xf6\\xbe\\xdb\\xa4]r<\\xa0\\x1c\\xfb\\xe4\\xd6\\xe8fP\\xd6`\\xd0\\x8aV\\xa0u\\xc7\\x1ai\\x1dj\\xf3\\xd3\\xb2\\x90\\xba\\xaam\\xf2\\xeb\\xe3\\xbb\\xd0}\\x8a{\\xe9\\xc9d<\\x8f\\xf9\\x9f/\\xf5\\xdd%\\x1bRRz75\\x19\\xadn\\xe0a?\\x88\\xda<^\\xfc\\xfa\\x97\\x92J!\\xdc~\\x83\\x9asw9\\xfc\\x1bs\\xf0\\n\\xdf\\x1bIF\\x98Lk/\\x91\\x9e\\x8e\\xee*\\xc8u\\x08n\\x1ez\\xaa>\\x97h\\x8e\\x9e\\xe9\\xbdy\\xca\\xff\\t\\xa61?>\\x9dA\\xf7\\xcb\\x18_\\x13A\\x97\\xe9O\\xfc\\xc9\\xc6\\xfd\\x1f\\xec\\x9d\\xbe/\\xd9|\\xc7\\xaf\\xf6\\xa7\\x94\\xfe!U\\x8bI\\xc6\\xd4\\xa5\\xf3\\x10r_4g\\x87\\xed\\x9c}b\\x87\\xf26\\xf09\\xbb.\\xc0\\x7f\\x85\\xdcS\\xe8X\\xbf{\\xed\\xad\\x98\\xcb\\x8c>\\xa7\\xec/\\x83\\xf3\\xf9\\x9f\\x9f<\\xeb\\xdb\\xcc\\xad\\xf3\\xb9:EM\\xdek*\\xcd\\xfb\\x00\\x00\\x00\\x00\\x00\\x00\\x00\\x00\\x00\\x00\\x00\\x00\\x00\\x00\\x00\\x00\\x00\\x00\\x00\\x00\\x00p\\x00\\x00\\x02\\xe2'\n",
      "b'\\x08\\x00\\x02\\x93\\x14\\xf8\\xf7\\x00\\x00\\x00\\x00\\xaf\\x01!\\x1b\\x0f\\xff\\xff\\xff\\xff\\x80?\\xdf\\xda\\xfb}\\xf7]d\\xbaUMVIU\"\\x88\\xaf\\x8a\\xe2\\xb3@P}T\\x88_\\x82\\xb7\\x04\\x87\\x8f\\xc8AF\\xc8i\\xe3\\x90\\x88\\x06\\rn\\\\\\x9a\\xbeH&7\\xd3\\xd6\\xe3\\xbeK\\xdb2r2\\xb1\\xad0s\\xeeL\\x07c\\xfd^<\\xa9\\x15\\xf7^4\\xef\\xcf\\x1c\\xa9\\x93c\\x02\\x8aG\\x87qA\"\\x8a\\x0b0\\xe3\\xe2::\\x82O\\x17n\\'\\xca\\xe8\\xd5vxm\\xe1}\\x7f\\xf4?\\xa9\\x9a,\\xf0\\xf7F\\xae\\xc4\\xf9s\\x95\\xfaF\\xdc\\x1d\\xc3\\xb1r\\xb9c\\xff\\xdc\\xde\\x14P\\xbf[\\xb9y\\xbf\\xd8\\xfbB\\x07\\xb4=\\xab\\x06\\x05FZ\\xaa%p\\xee\\x9d\\xcdZ\\x96a\\xe5GF\\xec\\xb2t\\x8c\\xdc\\xdb\\xcc\\x1c\\xc7\\xca;g\\xafv\\x9c.\\xc2\\x96O\\x18\\xce2\\x8b\\xb55U\\xfc\\xbd\\'\\xad\\xbf/$m\\xbd@{\\xbd;u%$\\xb3\\xc3-\\xc2g\\x1efW\\xa5l\\x8e,\\xd8vQ\\xea\\xaa\\x92\\xaa\\xf2V3I^\\x9d\\x18\\xe8\\xf0\\x99\\xb1\\xce\\x9a\\xf7\\xf0\\x04\\xfb\\xf3g\\xf0k+\\xbc\\xf2\\xfaG\\r;\\x973\\x17p&\\xd5j\\xdcy\\xcc\\xa0\\x97\\xec\\xdd\\xfb\\xba6\\xaej\\xd8\\xe80\\xa9\\x8bT\\xb4\\xe9\\xa6\\x1e\\x80\\xdcT\\xd5\\x0c\\x0e\\xe3\\xd5\\xbcS\\xfd)h:k\\xe6\\xbbO\\xc7c{c\\xfe\\x1d\\r\\xcd\\xd0>\\x8e\\xe4\\xafqh\\x8c}\\x8bVf\\xbdH\\xb1\\xdd\\x9afB\\x96\\xc5\\xd1YT\\x194;\\xb3\\xdf\\xe4\\xf0\\xf5\\x06l\\xff2\\x1eJ\\xf6\\xfd\\xcf\\x96%\\x92}v\\x7f%?L\\xf9\\xf2\\xb6\\xc1\\xfd\\x16J\\\\\\xc1\\xf5.\\xed\"\\x00O8\\x98\\xd0\\xfd\\x99t\\x01o\\xd9\\xb8\\x0cio\\x83\\xbfv\\xf7\\xeb\\xe3\\x9e\\x7f\\xf3\\xfe\\xb0\\xba\\x07\\xd2\\xfc\\x83\\xfa\\xb4g\\x8a\\xe4\\xf1\\xf7E\\xe9\\x0e\\x99\\x85@\\x88\\xaa\\xc0\\x1a\\x8b\\xda\\xb9k\\x8e\\x13\\xf2tnd\\xd5\\xd6i\\xe8\\x10\\xf9M7\\xda\\xf6\\xf9\\xac\\x1b\\x03\\xd5l\\xbd\\x1aD\"\\xd6:\\x16\\x17\\x95\\x03\\x97\\xff\\xf9\\xea~\\x01h\\x8f4\\xf3n\\xe0\\x99\\xc3\\xe9\\xb8\\xad\\x81\\x99\\xe1\\x94\\xa6>.\\x0c\\x1cFT\\x042X\\'\\xb5\\xfc\\xc7(\\xcb\\xe1\\xc1\\t`f\\x9c\\xd5\\xbc~\\x97\\xfb\\xe9\\xd4u_\\xa5}\\x8a\\xdc5\\xb1\\xcc_\\x96\\xd7\\xf6\\xfazKTk+\\x18\\x17@7_\\xf8k\\xca_J\\xe7\\xad\\x85\\x96\\xfc?\\xac\\x7f-\\xab\\xf3\\x07\\xd2a\\x1d\\xc1\\x16\\x99Io\\xa3\\xb5\\xd5\\xf8$\\xa2T\\xb0\\xbd\\xba\\x92\\xdd\\'4\\xa1\\xaf\\xc9\\x08=\\x93R\\x87\\xc0\\xbe\\xef\\xb4\\xf6\\x04\\xb0\\x0c\\xfd\\xf8\\x0eW\\xd75obz=\\x88(\\xa7\\xdd\\xf7)!\\x87\\xce\\x7f\\xfc\\xf1\\x1d;\\xa4\\xf4\\xcb\\xf8\\xfc\\xbe\\x87\\xdb\\xef\\xba\\xeb%\\xd2\\xaaj\\xb2J\\xa9\\x14E|W\\x15\\x9a\\x00\\x00\\x00\\x00\\x00\\x00\\x00\\x00\\x00\\x00\\x00\\x00\\x00\\x00\\x00\\x00\\x00\\x00\\x1c\\x00\\x00\\x02\\x9e'\n",
      "b'\\x08\\x00\\x02\\x9b\\x14\\xf9\\x0e\\x00\\x00\\x00\\x00\\xaf\\x01!\\x1b\\x0f\\xff\\xff\\xff\\xff\\x80A\\xdf(V\\xe7z\\x89\\xf5[\\xde\\x08\\x98\\xbbs\\xe7\\x95\\xdf3\\xf5\\xb3$\\xa9\\xce\\x92\\x86x\\xeaRe\\x9d\\x9d\\xa7\\x91\\tkgq\\xec\\xfe[\\xbc\\x9a\\xcb/\\x92\\x00\\x89\\x0c\\xff\\x18LA\\xa1\\xc9n\\x16\\xe5\\xa1ELi<\\xc1\\x93AN\\xc9\\xc0\\xfa\\xfc\\xc0r\\xf5\\xe3\\x82\\xa3\\xee~+\\xca;vI\\xe9>\\xe9\\xe8\\xc5\\xfcG;#*\\x8b\\xe8s\\xc7u\\xd3\\\\\\x8b\\xdb\\x9f\\x82\\xdf\\xf9C@\\xbc\\x0c\\xe0\\xbf\\t\\x13\\xe1\\xda:\\x99p\\x7f\\xbfBe\\xf8\\xae^\\xe2?]\\xc2o\\xae\\x03\\x8e\\xdfP\\x8e\\xcc\\xcc\\xde\\x99`7\\xf6\\x1b\\xa1\\xc0\\x82z\\xc3\\xa6;\\x96\\xc2wW\\xf6E%i\\x87\\xdf\\xdf{\\xf7g\\xf5G\\x17\\xc17\\xece\\x05b\\xa4o\\xcb;#U;$\\xabb1i\\xd0\\xfa\\xca2T\\x8e\\x90I\\xa1\\xc5#wV\\xe9\\x8bNdk\\xf4=\\xab\\x10\\xdf\\x93\\xdd\\xefFM\\xf8\\xaes\\xc5<\\xff\\xc0!\\xc9\\xe3\\xac\\xc9\\xce\\xbb\\xc1\\xb3\\xf3\\'\\xde\\x9a_@\\xbdt\\'3^\\xb0\\xf8\\xb5w\\xdf\\xcd\\xc1j\\xd8\\xf1?\\x8b\\x80\\x98\\xfbN\\xf5\\xf6\\xba\\x08\\x1d\\x0f+\\x06g\\x04\\xac\\n\\xfa\\xc4.T\\x1f\\xbaZh\\x91\\xf45{\\x975\\xe7\\xba\\x11 <\\x92\\xa2.=..H!\\xc2m\\xbf\\xb6\\xe2U\\xa0Y\\xfe\\xaf\\xec\\x9cU\\x97\\xfc\\x8f\\'\\x87\\xa7\\xffY\\xf5|N\\x9d\\xa9\\xc5\\x82\\xb2~\\rnO\\xda\\xd3\\x99\\x05^\\xcb&\\x833\\xda\\x81\\xb1E\\x1cPb\\x8b\\xe0\\xe0\\xb5\\xc0\\xe4\\xec~\\xcb\\xe6\\xeb\\xa4\\xb7J>\\xa1\\x95\\x0f\\xcds\\xa9$n\\xfe\\xb5\\x07\\xe0\\xfd\\xbb\\xe1\\xbc\\xa7\\xd7}q\\x8c\\xc7<\"%pJ$\\xc8`\\xc0\\x87\\xe4\\xf4)c\\x9f\\xb1m9\\x90\\x97\\x97U\\xde\\x959{ZN\\r#\\xc9yP;\\xdeR\\x1d\\xd4W?LeSJA\\xd7U(\\xbfw g\\x1a\\xe0\\xb2\\xd0\\xb0\\x00\\xea\\x1f4\\xfb/S\\xe0\\x85\\x94\\xd7\\x9a\\xbfU\\xeb\\xd6y>\\xdb\\x0f\\x9f\\x81\\x1d\\xe4\\xaf>\\xb1G[\\x88\\x90\\x07Y\\x0f\\xf8\\xbe\\xb1f\\x9a\\xec-\\x9c\\x0f\\x11\\xfb\\x13j\\xb0-\\xb7\\xd1|{\\x9d\\x05Nz\\xc4\\x87\\x01\\xea\\x8a\\xbe\\xbc\\xd8\\x15\\x80;\\x7f\\xf7t\\x9fbK\\xe2\\xcc\\xfc\\x07\\xc3(\\x81\\x99\\xd1\\xda\\xde\\xb3.R\\xba\\xc4\\xff$\\x14\\xf6\\xf4\\xf5b\\x16\\xeb\\x15\\xf1\\xb4x=\\xdcRe\\x05D\\x0bo\\x8a\\t\\x84\\x1e\\x81\\xaa\\xc9\\x14Q?\\xc4r\\xd7\\xfc\\xc9\\x10$@\\x0e\\xdc\\xef:2f%\\xa4;\\xe6U\\x0f\\xd4k@\\xf8/\\n*\\xd4\\x90m?!\\x87\\xea8\\xf4]O\\x96?\\xd1\\xfb\\xab8\\\\c\\xbc\\xff\\xb5\\xdd\\xb8\\xfcs\\xcfkgQ\\xc1\\x8f\\xcb\\xe8w\\xa8\\x9fU\\xbd\\xe0\\x89\\x8b\\xb7>y]\\xf3?[2\\x00\\x00\\x00\\x00\\x00\\x00\\x00\\x00\\x00\\x00\\x00\\x00\\x00\\x00\\x00\\x00\\x00\\x00\\x0e\\x00\\x00\\x02\\xa6'\n"
     ]
    },
    {
     "name": "stdout",
     "output_type": "stream",
     "text": [
      "b'\\x08\\x00\\x02T\\x14\\xf9%\\x00\\x00\\x00\\x00\\xaf\\x01!\\x1b\\x0f\\xff\\xff\\xff\\xff\\x00A\\xdd\\xa8\\xd7\\x07\\x87\\xb5[T\\xddJ\\xba\\x82\\x88\\xadJ\\xcf\\xa6\\x93w3\\\\\\xdc\\xd8q\\xe4\\xe1\\x90Ps\\x85\\x02\\xdf\\xee\\xf3-\\x08\\x1c\\x86K\\x97\"{n\\x8e\\xc8$\\xfd\\xdf6|\\xf5\\xf1\\xed\\xb9\\xc2\\xd5\\x1e9\\xc2\\x8e\\xb5\\xfcf\\x84\\xef\\x1c\\xf1\\xc1\\xb6\\xedr\\x0b\\x9a\\xb3\\x16p\\x98\\x1fZ6E\\xfe~\\xca\\xee\\x0f\\xa2\\x9e\\xaa\\x8b\\x9f\\xd6\\xea\\xda\\xb2\\x8f\\xcc\\xd1\\x95\\x1b\\x96\\xae_\\x9asQ\\x9a\\xe9\\xb4}\\xc5_xb\\\\uq\\xe2\\xd8\\xe4\\xf7#f\\x08&^\\x8f\\xf9\\x7f\\x9e\\x1f\\xb1\\xfc\\x83\\xc0\\xf8s\\x99.\\x91\\xdf\\xbd#\\x91\\xd9\\x9a\\x96k\\'\\xc7\\xbd\\xde\\xcdQ\\xe3C\\xd5\\x95\\xf1^\\'\\xab\\xac\\xc9\\xc8\\xd2\\xdbia\\xf3\\x06\\x91\\xe4\\xf7\\xcfy\\xaeG\\x0cK\\r\\xfe\\x9a\\x8e\\x0e\\xa2cr\\xd9\\xf8\\xbe\\xb5\\r\\xc6hz\\xaeZ\\x92(\\xc3z\\x16\\x17\\x9f\\xca\\xbb\\x1cY\\x89#N9\\x11\\x1d;\\n\\x85\\xbe&\\xbf\\xb38Z\\xc3a.\\x17\\xfcF\\x8c\\x9b\\xf4dlu\\x82mt0\\xbc\\xfcSF\\x19#\\xe5\\x07\\xe4\\x95\\xe7}CF\\xed\\xcdR\\x9a\\x92u\\xee\\xf9\\x16\\x9aV\\xecH\\xe0>/\\x97sUv\\x0e7\\x1d\\xda\\xe4\\x84?{\\x03\\x8d{\\x9e\\x8e\\xcb:\\xf7\\xe3\\xbe\\xb17\\xbb\\xbd;\\xde\\xf3\\xb3\\x83\\xb2\\xfb\\xcb\"\\xfafb\\xfb\\xdd\\xcf\\xc4#}\\r78\\xfa\\x16\\x1d\\xdf\\xfb\\xce\\x92\\xadK\\xe9\\xfb\\x7f\\xfb\\x18\\xb7XM=\\x8fbh\\xdf\\xc4C7\\x9e\\xc0\\xef.\\xfe\\x910\\xc9\\n+$s\\xcb\\xb3\\x8d\\xad\\x8b\\xd7x\\xec\\xef]\\xde\\x1d\\xbd\\xcd\\xd4\\xee]\\xd56\\xd7=T@\\xf8\\xea\\xb3\\xd83?\\x1e\\xf7\\x9es\\xfd\\x9d%\\xa1s\\xf6K\\x9b\\xb9\\xf7\\x0c\\xe5\\x8e\\x1f\\x1e\\x7f\\xd2\\xd0\\x17?\\xf2\\x86\\xd0pl\\xaf\\xe2|\\x05;\\x94\\xb8\\xbfyM\\xda;\\xc5\\xfd\\xb7\\xe6_3\\xcf%LuM\\xcb\\xeb\\x92\\xd0\\xb6f\\x1f\\xe8={?Z\\xe2\\xe8m\\x81=xu\\x87\\xd0\\xdd\\xf9E\\x01\\xa1\\xf7r\\xde4\\x96h\\x8a\\xcbc\\xd3R\\x0eYZ\\xf1^+\\xcb\\xcew\\xeez\\xd3\\x1eP\\xd9\\xfc\\x8el\\xf0\\xba\\xa1\\x82^\\x16b`\\xee,\\xc3\\xcf\\x7f\\x99\\x05\\xf5\\xbf\\xadn>\\xa8\\xd8\\xbfs\\xe1\\x97\\x9d\\xd8\\r\\x8b\\x8e&\\xce\\xf0\\xe2[\\xcb5\\xee\\nsyg\\x8d\\xa3\\xe2ql.v\\x02\\xb4\\xb4\\x0b\\xc29p\\xb4\\xc1\\x8f\\xc9\\xe9x{U\\xb5M\\xd4\\xab\\xa8(\\x8a\\xd4\\xac\\xfai\\x00\\x00\\x00\\x00\\x00\\x00\\x00\\x00\\x00\\x00\\x00\\x00\\x00\\x00\\x00\\x00\\x00\\x03\\x80\\x00\\x00\\x02_'\n",
      "b'\\x08\\x00\\x01\\xc7\\x14\\xf9<\\x00\\x00\\x00\\x00\\xaf\\x01!\\x1b\\x0f\\xff\\xff\\xff\\xfe\\x00D\\xd4!\\xf4\\xd6\\xf3\\xa5\\xa7\\x1b\\xc6\\\\\\xa4^\\xd2\\x90\\x95\\xed\\xc6\\xef<\\xf7\\x17WX\\x13\\xfa\\xa7\\xcf>\\x7fs\\xca\\xfd\\x9b\\xa0\\xf1\\xcf_\\xec\\xdf\\xf2\\xeb\\xb6\\xbeS\\xbbV\\xb5\\x8bv\\x90\\xca\\xa7\\x93]r\\x0b4n\\x9b-o\\x99\\xed\\x97\\xb7*\\xee\\x10\\xeb\\x18\\x05\\x1dG8K^\\xcdz\\x10b\\xe6[%6n\\xe6[\\x190\\xb6V\\xc5\\xbei\\xf1\\xe8\\xd3\\xf5\\xda|\\x92${4\\xb5\\x93+\\xe7\\xd7\\xda\\x10}]\\x00\\xc6\\x10/\\xba\\x0e\\xbd\\xb5U+\\xd2r\\xec\\xaa\\x930\\x8bS\\xf1\\xde\\xb2\\xc5%\\xfd\\x06\\x1a\\xf0XV=kdP\\xc8\\xb9`/\\xca\\xc6\\x0c2-\\xa9H\\xd2\\xc8T\\x14a\\x8a9\\x05\\xc8 \\xc9P\\xc6x\\xa7\\x98\\x81;F\\xd1+\\x89\\xb8\\xef\\x81\\xd5\\xe8\\xa8\\xb2\\xbf\\xddLE\\x88:\\x16\\x98\\xdcr\\xd8\\xaa\\xcb\\xa3\\x02\\xbcX\\xc9\\x1c]w4\\x06\\xd2O\\xd7\\x9e\\t\\x8b\\x8c\\xd1\\x16\\xd3\\x13\\x9c8\\xd3\\xa4\\xda0\\xd1\\xc4,\\x8feq\\xa3g\\x8e\\xd5ml\\xb1\\xac\\x00:2\\x92\\x16u\\xe8\\x86\\xa4?:Q;\\x0f\\xc6\\xd5MH<\\xf2\\xbd\\x1e\\xdf\\xd09\\x8ch\\xae\\xed\\xb5\\x8c\\xe6\\xc8\\xc6\\x12T\\xcb\\x1c:q\\x9fj\\xea\\xdb^\\xdb\\xceX3\\xd0U1\\xc8&\\xafV\\x897}\\x99=\\xe5\\xccuZz\\xc1\\xabB\\xfc\\xc6\\xc4\\xb9\\x85j\\xb9G\\xc12.#TKc\\xa1\\xc1\\x91o`\\xb3\\xac\\xba{\\xc7V6\\x0e;\\x91\\x92\\x80\\xca_\\xcd\\xd0\\xb6\\xb6\\x01%\\r\\x02\\x93j\\xd7\\xb0\\xee\\xf3\\x1a\\xf0\\x81\\xec\\x93\\x9be(apU.\\xad\\xbe=O^m\\xf4(\\x8d\\xc3\\xedq\\xf0\\x95\\xcc\\x9c\\xe5\\xb2\\x06\\xab\\xc9c\\xca\\x0e\\xf0nB\\x7f(\\xaff\\xe3\\\\G2%b\\x87.\\x89\\x1f\\x8f\\xd4\\xdet\\xb4\\xe3x\\xcb\\x94\\x8b\\xdaR\\x12\\xbd\\xb8\\xdd\\x80\\x00\\x00\\x00\\x00\\x00\\x00\\x00\\x00\\x00\\x00\\x00\\x00\\x00\\x00\\x00\\x03\\x80\\x00\\x00\\x01\\xd2'\n"
     ]
    }
   ],
   "source": [
    "while True:\n",
    "    time.sleep(3)\n",
    "    print(stream.read(1024))"
   ]
  },
  {
   "cell_type": "code",
   "execution_count": 1,
   "metadata": {
    "collapsed": true
   },
   "outputs": [],
   "source": [
    "import av"
   ]
  },
  {
   "cell_type": "code",
   "execution_count": 3,
   "metadata": {},
   "outputs": [],
   "source": [
    "fh = av.open('rtsp://184.72.239.149/vod/mp4:BigBuckBunny_115k.mov')"
   ]
  },
  {
   "cell_type": "code",
   "execution_count": 4,
   "metadata": {},
   "outputs": [
    {
     "name": "stdout",
     "output_type": "stream",
     "text": [
      "<av.ContainerFormat 'rtsp'>\n"
     ]
    }
   ],
   "source": [
    "print(fh.format)"
   ]
  },
  {
   "cell_type": "code",
   "execution_count": 4,
   "metadata": {},
   "outputs": [
    {
     "name": "stdout",
     "output_type": "stream",
     "text": [
      "<class 'av.container.streams.StreamContainer'>\n",
      "<av.AudioStream #0 aac at 12000Hz, stereo, fltp at 0x7f92b817d588>\n",
      "<av.VideoStream #1 h264, yuv420p 240x160 at 0x7f92b817d5f8>\n"
     ]
    }
   ],
   "source": [
    "print(type(fh.streams))\n",
    "print(fh.streams[0])\n",
    "print(fh.streams[1])"
   ]
  },
  {
   "cell_type": "code",
   "execution_count": null,
   "metadata": {
    "collapsed": true
   },
   "outputs": [],
   "source": [
    "for frame in fh.decode(video=0):\n",
    "    frame.to_image().save('frame-%04d.jpg' % frame.index)"
   ]
  },
  {
   "cell_type": "code",
   "execution_count": 5,
   "metadata": {},
   "outputs": [
    {
     "name": "stdout",
     "output_type": "stream",
     "text": [
      "<class 'list'> [<av.VideoStream #1 h264, yuv420p 240x160 at 0x7f92b817d5f8>]\n"
     ]
    }
   ],
   "source": [
    "myaudio=fh.streams.get(0)\n",
    "myvideo=fh.streams.get(video=0)\n",
    "print(type(myaudio),myvideo)"
   ]
  },
  {
   "cell_type": "code",
   "execution_count": 6,
   "metadata": {},
   "outputs": [
    {
     "name": "stdout",
     "output_type": "stream",
     "text": [
      "<class 'tuple'>\n",
      "['__add__', '__class__', '__contains__', '__delattr__', '__dir__', '__doc__', '__eq__', '__format__', '__ge__', '__getattribute__', '__getitem__', '__getnewargs__', '__gt__', '__hash__', '__init__', '__init_subclass__', '__iter__', '__le__', '__len__', '__lt__', '__mul__', '__ne__', '__new__', '__reduce__', '__reduce_ex__', '__repr__', '__rmul__', '__setattr__', '__sizeof__', '__str__', '__subclasshook__', 'count', 'index']\n",
      "<built-in method count of tuple object at 0x7f92b96523c8>\n",
      "<av.AudioStream #0 aac at 12000Hz, stereo, fltp at 0x7f92b817d588>\n"
     ]
    }
   ],
   "source": [
    "print(type(fh.streams.video))\n",
    "print(dir(fh.streams.audio))\n",
    "print(fh.streams.audio.count)\n",
    "for item in fh.streams.audio:\n",
    "    print(item)"
   ]
  },
  {
   "cell_type": "code",
   "execution_count": 17,
   "metadata": {},
   "outputs": [
    {
     "name": "stdout",
     "output_type": "stream",
     "text": [
      "['__add__', '__class__', '__contains__', '__delattr__', '__delitem__', '__dir__', '__doc__', '__eq__', '__format__', '__ge__', '__getattribute__', '__getitem__', '__gt__', '__hash__', '__iadd__', '__imul__', '__init__', '__init_subclass__', '__iter__', '__le__', '__len__', '__lt__', '__mul__', '__ne__', '__new__', '__reduce__', '__reduce_ex__', '__repr__', '__reversed__', '__rmul__', '__setattr__', '__setitem__', '__sizeof__', '__str__', '__subclasshook__', 'append', 'clear', 'copy', 'count', 'extend', 'index', 'insert', 'pop', 'remove', 'reverse', 'sort']\n"
     ]
    },
    {
     "data": {
      "text/plain": [
       "['__add__',\n",
       " '__class__',\n",
       " '__contains__',\n",
       " '__delattr__',\n",
       " '__delitem__',\n",
       " '__dir__',\n",
       " '__doc__',\n",
       " '__eq__',\n",
       " '__format__',\n",
       " '__ge__',\n",
       " '__getattribute__',\n",
       " '__getitem__',\n",
       " '__gt__',\n",
       " '__hash__',\n",
       " '__iadd__',\n",
       " '__imul__',\n",
       " '__init__',\n",
       " '__init_subclass__',\n",
       " '__iter__',\n",
       " '__le__',\n",
       " '__len__',\n",
       " '__lt__',\n",
       " '__mul__',\n",
       " '__ne__',\n",
       " '__new__',\n",
       " '__reduce__',\n",
       " '__reduce_ex__',\n",
       " '__repr__',\n",
       " '__reversed__',\n",
       " '__rmul__',\n",
       " '__setattr__',\n",
       " '__setitem__',\n",
       " '__sizeof__',\n",
       " '__str__',\n",
       " '__subclasshook__',\n",
       " 'append',\n",
       " 'clear',\n",
       " 'copy',\n",
       " 'count',\n",
       " 'extend',\n",
       " 'index',\n",
       " 'insert',\n",
       " 'pop',\n",
       " 'remove',\n",
       " 'reverse',\n",
       " 'sort']"
      ]
     },
     "execution_count": 17,
     "metadata": {},
     "output_type": "execute_result"
    }
   ],
   "source": [
    "print(dir(myaudio))\n",
    "dir(myvideo)"
   ]
  },
  {
   "cell_type": "code",
   "execution_count": 5,
   "metadata": {
    "collapsed": true
   },
   "outputs": [],
   "source": [
    "sound=fh.decode(audio=0,video=0)\n",
    "image=fh.decode(video=0)"
   ]
  },
  {
   "cell_type": "code",
   "execution_count": 6,
   "metadata": {},
   "outputs": [
    {
     "name": "stdout",
     "output_type": "stream",
     "text": [
      "<class 'generator'>\n",
      "['__class__', '__del__', '__delattr__', '__dir__', '__doc__', '__eq__', '__format__', '__ge__', '__getattribute__', '__gt__', '__hash__', '__init__', '__init_subclass__', '__iter__', '__le__', '__lt__', '__name__', '__ne__', '__new__', '__next__', '__qualname__', '__reduce__', '__reduce_ex__', '__repr__', '__setattr__', '__sizeof__', '__str__', '__subclasshook__', 'close', 'gi_code', 'gi_running', 'gi_yieldfrom', 'send', 'throw']\n"
     ]
    }
   ],
   "source": [
    "print(type(sound))\n",
    "print(dir(image))"
   ]
  },
  {
   "cell_type": "code",
   "execution_count": 49,
   "metadata": {},
   "outputs": [
    {
     "name": "stdout",
     "output_type": "stream",
     "text": [
      "<class 'generator'>\n",
      "<av.VideoFrame #172, yuv420p 240x160 at 0x7fb37c1c9048>\n",
      "[not a audio] Cannot conveniently get numpy array from multiplane frame\n",
      "<av.VideoFrame #173, yuv420p 240x160 at 0x7fb38c077590>\n",
      "[not a audio] Cannot conveniently get numpy array from multiplane frame\n",
      "<av.AudioFrame 84, 1024 samples at 12000Hz, stereo, fltp at 0x7fb37c1c3548>\n",
      "[not a video] 'av.audio.frame.AudioFrame' object has no attribute 'to_image'\n",
      "[not a audio] (\"Don't know how to convert data type.\", 'fltp')\n",
      "<av.AudioFrame 85, 1024 samples at 12000Hz, stereo, fltp at 0x7fb37c1c3648>\n",
      "[not a video] 'av.audio.frame.AudioFrame' object has no attribute 'to_image'\n",
      "[not a audio] (\"Don't know how to convert data type.\", 'fltp')\n",
      "<av.VideoFrame #174, yuv420p 240x160 at 0x7fb38c0776c8>\n",
      "[not a audio] Cannot conveniently get numpy array from multiplane frame\n",
      "<av.VideoFrame #175, yuv420p 240x160 at 0x7fb38c077590>\n",
      "[not a audio] Cannot conveniently get numpy array from multiplane frame\n",
      "<av.AudioFrame 86, 1024 samples at 12000Hz, stereo, fltp at 0x7fb37c1c3748>\n",
      "[not a video] 'av.audio.frame.AudioFrame' object has no attribute 'to_image'\n",
      "[not a audio] (\"Don't know how to convert data type.\", 'fltp')\n",
      "<av.VideoFrame #176, yuv420p 240x160 at 0x7fb38c077868>\n",
      "[not a audio] Cannot conveniently get numpy array from multiplane frame\n",
      "<av.VideoFrame #177, yuv420p 240x160 at 0x7fb38c077a70>\n",
      "[not a audio] Cannot conveniently get numpy array from multiplane frame\n",
      "<av.AudioFrame 87, 1024 samples at 12000Hz, stereo, fltp at 0x7fb38c188148>\n",
      "[not a video] 'av.audio.frame.AudioFrame' object has no attribute 'to_image'\n",
      "[not a audio] (\"Don't know how to convert data type.\", 'fltp')\n",
      "<av.VideoFrame #178, yuv420p 240x160 at 0x7fb38c077388>\n",
      "[not a audio] Cannot conveniently get numpy array from multiplane frame\n",
      "<av.VideoFrame #179, yuv420p 240x160 at 0x7fb38c077730>\n",
      "[not a audio] Cannot conveniently get numpy array from multiplane frame\n"
     ]
    }
   ],
   "source": [
    "print(type(sound))\n",
    "cnt=0\n",
    "\n",
    "for item in sound:\n",
    "    print(item)\n",
    "    try:\n",
    "        item.to_image().save('video-frame-%04d.jpg' % item.index)\n",
    "    except Exception as e:\n",
    "        print('[not a video]',e)\n",
    "    try:\n",
    "        item.to_nd_array().save('audio-frame-%04d.wav' % item.index)\n",
    "    except Exception as e:\n",
    "        print('[not a audio]',e)\n",
    "    cnt+=1\n",
    "    if cnt>11:\n",
    "        break"
   ]
  },
  {
   "cell_type": "code",
   "execution_count": 45,
   "metadata": {},
   "outputs": [
    {
     "name": "stdout",
     "output_type": "stream",
     "text": [
      "72 ['__class__', '__delattr__', '__dir__', '__doc__', '__eq__', '__format__', '__ge__', '__getattribute__', '__gt__', '__hash__', '__init__', '__init_subclass__', '__le__', '__lt__', '__ne__', '__new__', '__pyx_vtable__', '__reduce__', '__reduce_ex__', '__repr__', '__setattr__', '__setstate__', '__sizeof__', '__str__', '__subclasshook__', 'dts', 'format', 'index', 'is_corrupt', 'layout', 'planes', 'pts', 'rate', 'sample_rate', 'samples', 'time', 'time_base', 'to_nd_array']\n"
     ]
    }
   ],
   "source": [
    "print(item.index,dir(item))"
   ]
  },
  {
   "cell_type": "code",
   "execution_count": 18,
   "metadata": {},
   "outputs": [
    {
     "name": "stdout",
     "output_type": "stream",
     "text": [
      "39 ['__abs__', '__add__', '__and__', '__bool__', '__ceil__', '__class__', '__delattr__', '__dir__', '__divmod__', '__doc__', '__eq__', '__float__', '__floor__', '__floordiv__', '__format__', '__ge__', '__getattribute__', '__getnewargs__', '__gt__', '__hash__', '__index__', '__init__', '__init_subclass__', '__int__', '__invert__', '__le__', '__lshift__', '__lt__', '__mod__', '__mul__', '__ne__', '__neg__', '__new__', '__or__', '__pos__', '__pow__', '__radd__', '__rand__', '__rdivmod__', '__reduce__', '__reduce_ex__', '__repr__', '__rfloordiv__', '__rlshift__', '__rmod__', '__rmul__', '__ror__', '__round__', '__rpow__', '__rrshift__', '__rshift__', '__rsub__', '__rtruediv__', '__rxor__', '__setattr__', '__sizeof__', '__str__', '__sub__', '__subclasshook__', '__truediv__', '__trunc__', '__xor__', 'bit_length', 'conjugate', 'denominator', 'from_bytes', 'imag', 'numerator', 'real', 'to_bytes']\n"
     ]
    }
   ],
   "source": [
    "print(item.index,dir(item.index))"
   ]
  },
  {
   "cell_type": "code",
   "execution_count": 24,
   "metadata": {},
   "outputs": [
    {
     "ename": "AttributeError",
     "evalue": "'av.audio.frame.AudioFrame' object has no attribute 'real'",
     "output_type": "error",
     "traceback": [
      "\u001b[0;31m---------------------------------------------------------------------------\u001b[0m",
      "\u001b[0;31mAttributeError\u001b[0m                            Traceback (most recent call last)",
      "\u001b[0;32m<ipython-input-24-8319c58be3fa>\u001b[0m in \u001b[0;36m<module>\u001b[0;34m()\u001b[0m\n\u001b[0;32m----> 1\u001b[0;31m \u001b[0mprint\u001b[0m\u001b[0;34m(\u001b[0m\u001b[0mitem\u001b[0m\u001b[0;34m.\u001b[0m\u001b[0mreal\u001b[0m\u001b[0;34m(\u001b[0m\u001b[0;34m)\u001b[0m\u001b[0;34m)\u001b[0m\u001b[0;34m\u001b[0m\u001b[0m\n\u001b[0m",
      "\u001b[0;31mAttributeError\u001b[0m: 'av.audio.frame.AudioFrame' object has no attribute 'real'"
     ]
    }
   ],
   "source": [
    "print(item.real())"
   ]
  },
  {
   "cell_type": "code",
   "execution_count": null,
   "metadata": {
    "collapsed": true
   },
   "outputs": [],
   "source": []
  }
 ],
 "metadata": {
  "kernelspec": {
   "display_name": "Python 3",
   "language": "python",
   "name": "python3"
  },
  "language_info": {
   "codemirror_mode": {
    "name": "ipython",
    "version": 3
   },
   "file_extension": ".py",
   "mimetype": "text/x-python",
   "name": "python",
   "nbconvert_exporter": "python",
   "pygments_lexer": "ipython3",
   "version": "3.6.1"
  }
 },
 "nbformat": 4,
 "nbformat_minor": 2
}
