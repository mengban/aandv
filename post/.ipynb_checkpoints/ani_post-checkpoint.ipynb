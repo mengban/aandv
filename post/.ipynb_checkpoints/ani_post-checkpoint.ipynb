{
 "cells": [
  {
   "cell_type": "code",
   "execution_count": 115,
   "metadata": {},
   "outputs": [
    {
     "name": "stdout",
     "output_type": "stream",
     "text": [
      "currentTime is: 20180508195742000\n",
      "AccessId is: 0310103\n",
      "CPID is: 800033\n",
      "md5 str is: 0310103201805081957420008000333edc2wsx\n",
      "Securitykey is: 044e5ed5e8e2970c105724e78f8b9441\n",
      "FilePath is: /2018-05-08/9000005514_9000005514_20180508_Req.xml\n",
      "POST xml is: <ContUpload><Version>0001</Version><Auth><AccessId>0310103</AccessId> <SecurityKey>044e5ed5e8e2970c105724e78f8b9441</SecurityKey><CPID>800033</CPID><CurrentTime>20180508195742000</CurrentTime></Auth><FilePath>/2018-05-08/9000005514_9000005514_20180508_Req.xml</FilePath></ContUpload>\n",
      "resp is: <Response><ResCode>1007</ResCode><ResMessage>FTP上保存的XML路径不正确或者文件名称命名不正确，请按照SequenceA_ SequenceB_yyyyMMdd_Req.xml格式命名！</ResMessage></Response>\n"
     ]
    }
   ],
   "source": [
    "import requests\n",
    "import hashlib\n",
    "import time\n",
    "Curtime=time.strftime('%Y%m%d%H%M%S',time.localtime(time.time()))+'000'\n",
    "AccessId=\"0310103\"\n",
    "CPID=\"800033\"\n",
    "Key=\"3edc2wsx\"\n",
    "#src=CPID+AccessId+Curtime+Key\n",
    "#src=CPID+Curtime+AccessId+Key\n",
    "src=AccessId+Curtime+CPID+Key\n",
    "#src=AccessId+CPID+Curtime+Key\n",
    "#src=Curtime+AccessId+CPID+Key\n",
    "#src=Curtime+CPID+AccessId+Key\n",
    "m5=hashlib.md5()\n",
    "m5.update(src.encode('UTF-8'))\n",
    "securityKey=m5.hexdigest()\n",
    "FilePath=\"/2018-05-08/9000005514_9000005514_20180508_Req.xml\"\n",
    "#FilePath=\"9000005514_9000005514_20180508_Req.xml\"\n",
    "print('currentTime is:',Curtime)\n",
    "print('AccessId is:',AccessId)\n",
    "print('CPID is:',CPID)\n",
    "print('md5 str is:',src)\n",
    "print('Securitykey is:',securityKey)\n",
    "print('FilePath is:',FilePath)\n",
    "\n",
    "xml = \"<ContUpload><Version>0001</Version><Auth><AccessId>\"\n",
    "xml+=AccessId\n",
    "xml+=\"</AccessId> <SecurityKey>\"\n",
    "xml+=securityKey\n",
    "xml+=\"</SecurityKey><CPID>\"\n",
    "xml+=CPID\n",
    "xml+=\"</CPID><CurrentTime>\"\n",
    "xml+=Curtime\n",
    "xml+=\"</CurrentTime></Auth><FilePath>\"\n",
    "xml+=FilePath\n",
    "xml+=\"</FilePath></ContUpload>\"\n",
    "headers = {'Content-Type': 'text/xml;charset=UTF-8','Content-Length':'lehgth'} # set what your server accepts\n",
    "print('POST xml is:',xml)\n",
    "resp=requests.post('http://117.131.17.18/wd-admin/batchContentImportServlet', data=xml, headers=headers).text\n",
    "print('resp is:',resp)"
   ]
  },
  {
   "cell_type": "code",
   "execution_count": 103,
   "metadata": {},
   "outputs": [
    {
     "name": "stdout",
     "output_type": "stream",
     "text": [
      "<Response><ResCode>1007</ResCode><ResMessage>FTP上保存的XML路径不正确或者文件名称命名不正确，请按照SequenceA_ SequenceB_yyyyMMdd_Req.xml格式命名！</ResMessage></Response>\n"
     ]
    }
   ],
   "source": [
    "resp=requests.post('http://117.131.17.18/wd-admin/batchContentImportServlet', data=xml, headers=headers).text\n",
    "print(resp)"
   ]
  },
  {
   "cell_type": "code",
   "execution_count": 104,
   "metadata": {},
   "outputs": [],
   "source": [
    "import time"
   ]
  },
  {
   "cell_type": "code",
   "execution_count": 105,
   "metadata": {},
   "outputs": [
    {
     "name": "stdout",
     "output_type": "stream",
     "text": [
      "<class 'str'> 20180508171214000\n"
     ]
    }
   ],
   "source": [
    "curtime=time.strftime('%Y%m%d%H%M%S',time.localtime(time.time()))+'000'\n",
    "print(type(curtime),curtime)"
   ]
  },
  {
   "cell_type": "code",
   "execution_count": 106,
   "metadata": {},
   "outputs": [
    {
     "name": "stdout",
     "output_type": "stream",
     "text": [
      "32\n",
      "29\n"
     ]
    }
   ],
   "source": [
    "import os\n",
    "os.listdir()\n",
    "src.encode(\"UTF-8\")\n",
    "print(len(securityKey))\n",
    "print(len(\"db3d140e20d5ed085cd5a738a7fe1\"))"
   ]
  },
  {
   "cell_type": "code",
   "execution_count": 99,
   "metadata": {},
   "outputs": [
    {
     "ename": "SyntaxError",
     "evalue": "invalid character in identifier (<ipython-input-99-7a2cdc5695c8>, line 1)",
     "output_type": "error",
     "traceback": [
      "\u001b[1;36m  File \u001b[1;32m\"<ipython-input-99-7a2cdc5695c8>\"\u001b[1;36m, line \u001b[1;32m1\u001b[0m\n\u001b[1;33m    学习上，热爱科研，并积极了解学科前沿知识。思想上，关注并主动学习党的方针路线。生活中，团结同学，并积极参加集体活动\u001b[0m\n\u001b[1;37m                                                            ^\u001b[0m\n\u001b[1;31mSyntaxError\u001b[0m\u001b[1;31m:\u001b[0m invalid character in identifier\n"
     ]
    }
   ],
   "source": [
    "学习上，热爱科研，并积极了解学科前沿知识。思想上，关注并主动学习党的方针路线。生活中，团结同学，并积极参加集体活动\n",
    "积极向上 踏实能干 勤奋主动 认真负责 \n",
    "政治理论知识不够扎实"
   ]
  },
  {
   "cell_type": "code",
   "execution_count": null,
   "metadata": {},
   "outputs": [],
   "source": []
  }
 ],
 "metadata": {
  "kernelspec": {
   "display_name": "Python 3",
   "language": "python",
   "name": "python3"
  },
  "language_info": {
   "codemirror_mode": {
    "name": "ipython",
    "version": 3
   },
   "file_extension": ".py",
   "mimetype": "text/x-python",
   "name": "python",
   "nbconvert_exporter": "python",
   "pygments_lexer": "ipython3",
   "version": "3.5.2"
  }
 },
 "nbformat": 4,
 "nbformat_minor": 2
}
